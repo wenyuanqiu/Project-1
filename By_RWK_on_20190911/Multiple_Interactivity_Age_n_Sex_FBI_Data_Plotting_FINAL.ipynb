{
 "cells": [
  {
   "cell_type": "code",
   "execution_count": 1,
   "metadata": {},
   "outputs": [],
   "source": [
    "# Working with the Full Data (sex & Age) via Excel & Pickle files\n",
    "# Finalized on 09/10/2019 @ 10:57 PM"
   ]
  },
  {
   "cell_type": "code",
   "execution_count": 2,
   "metadata": {},
   "outputs": [],
   "source": [
    "import pandas as pd\n",
    "import numpy as np\n",
    "import string as str\n",
    "import re\n",
    "\n",
    "import matplotlib\n",
    "import matplotlib.pyplot as plt\n",
    "from matplotlib.gridspec import GridSpec\n",
    "import seaborn as sns\n",
    "from ipywidgets import widgets, interactive, Layout"
   ]
  },
  {
   "cell_type": "code",
   "execution_count": 3,
   "metadata": {},
   "outputs": [],
   "source": [
    "pickle_file = 'Full_Data_df_w_Yearly_Totals.pkl' # 09/10/2019"
   ]
  },
  {
   "cell_type": "code",
   "execution_count": 4,
   "metadata": {
    "scrolled": true
   },
   "outputs": [],
   "source": [
    "Full_Data_df = pd.read_pickle(pickle_file)\n",
    "Full_Data_df.rename(columns={'Unknown': 'Unknown_Sex'}, inplace=True)\n",
    "Full_Data_df.rename(columns={'unknown_fm_age': 'Unknown_Age'}, inplace=True)"
   ]
  },
  {
   "cell_type": "code",
   "execution_count": 5,
   "metadata": {
    "scrolled": true
   },
   "outputs": [],
   "source": [
    "cols = list(Full_Data_df.columns.values)"
   ]
  },
  {
   "cell_type": "code",
   "execution_count": 6,
   "metadata": {},
   "outputs": [
    {
     "name": "stdout",
     "output_type": "stream",
     "text": [
      "3 4\n"
     ]
    }
   ],
   "source": [
    "#Swap two columnss Offense and Unknown_Sex\n",
    "hdg1=\"Offense\"\n",
    "hdg2=\"Unknown_Sex\"\n",
    "indx1=cols.index(hdg1)\n",
    "indx2=cols.index(hdg2)\n",
    "print(indx1, indx2)\n",
    "cols[indx1]=hdg2\n",
    "cols[indx2]=hdg1"
   ]
  },
  {
   "cell_type": "code",
   "execution_count": 7,
   "metadata": {},
   "outputs": [],
   "source": [
    "Full_Data_df=Full_Data_df.reindex(columns=cols)"
   ]
  },
  {
   "cell_type": "code",
   "execution_count": 8,
   "metadata": {},
   "outputs": [],
   "source": [
    "offense_types=list(Full_Data_df[\"Offense\"].unique())"
   ]
  },
  {
   "cell_type": "code",
   "execution_count": 9,
   "metadata": {},
   "outputs": [],
   "source": [
    "min_year=1991\n",
    "max_year=2017\n",
    "quitcontrol=\"QUIT---All Done\"\n",
    "offtype = widgets.Dropdown(\n",
    "    options=[quitcontrol]+offense_types+[quitcontrol],\n",
    "    value='Yearly Totals All Crimes',\n",
    "    description='Offense:',\n",
    ")\n",
    "\n",
    "start_year = widgets.BoundedFloatText(\n",
    "    value=min_year,                        \n",
    "    min=min_year,                          \n",
    "    max=max_year-1,                          \n",
    "    step=1,\n",
    "    description='Start Year:',\n",
    "    disabled=False,\n",
    "    color='black'\n",
    ")\n",
    "end_year = widgets.BoundedFloatText(\n",
    "    value=max_year,                        \n",
    "    min=min_year+1,                          \n",
    "    max=max_year,                          \n",
    "    step=1,\n",
    "    description='End Year:',\n",
    "    disabled=False,\n",
    "    color='black'\n",
    ")"
   ]
  },
  {
   "cell_type": "code",
   "execution_count": 10,
   "metadata": {},
   "outputs": [],
   "source": [
    "def plotit(offtype, start_year, end_year):\n",
    "    df=Full_Data_df[Full_Data_df[\"Offense\"]==offtype].copy()\n",
    "    \n",
    "    xlabsforbar=[]\n",
    "    \n",
    "    if end_year <= start_year:\n",
    "        if start_year < max_year: \n",
    "            end_year=start_year+1\n",
    "        else:\n",
    "            start_year=end_year-1\n",
    "        \n",
    "    df=df[df[\"Year\"]>=start_year]\n",
    "    df=df[df[\"Year\"]<=end_year]     \n",
    "    #df.to_csv(\"offenders_by_age_\"+offtype+\".CSV\")\n",
    "    \n",
    "    dfgrpbytype=df.groupby('Year').sum()\n",
    "    dfbytype=dfgrpbytype.copy()\n",
    "   \n",
    "    indx=cols.index(\"Offense\")\n",
    "    dfsex=dfbytype.iloc[:,:indx]\n",
    "    dfage=dfbytype.iloc[:,indx:]\n",
    "   \n",
    "    xvals=list(dfage.index)\n",
    "    \n",
    "    syr=\"{:.0f}\".format(start_year)\n",
    "    eyr=\"{:.0f}\".format(end_year)\n",
    "\n",
    "    #................................................................\n",
    "    width=12\n",
    "    height=8\n",
    "    \n",
    "    fig = plt.figure(figsize=(width,height))\n",
    "    \n",
    "    gs1 = GridSpec(4, 3)\n",
    "    gs1.update(left=0.05, right=0.9, top=.9, bottom=0.01, wspace=0.35, hspace=.8)\n",
    "    ax1 = plt.subplot(gs1[:-1, :])\n",
    "    ax2 = plt.subplot(gs1[-1, :-1])\n",
    "    ax3 = plt.subplot(gs1[-1, -1])\n",
    "\n",
    "    ax1.set_xlabel(\"Years\", fontsize=24)\n",
    "    ax1.set_ylabel(\"# of Cases\", fontsize=20)\n",
    "    ax1.set_title(\"FBI Cases (\"+syr+\" - \"+eyr+\") for: \"+offtype.title(), fontsize=20)\n",
    "    ax1.grid(b=True, which='major', color='#666666', linestyle=':')\n",
    "    #~~~~~~~~~~~~~~~~~~~~~~~~~~~~~~~~~~~~~~~~~~~~~~~~~~~~~~~~~~~~~~~~~~\n",
    "    \n",
    "    lgx=1.15\n",
    "    lgy=1.02\n",
    "    \n",
    "    dfage=dfbytype.copy()\n",
    "    xn=0\n",
    "    sextotal=0\n",
    "    agetotal=0\n",
    "    for col in dfage.columns: \n",
    "        yvals=dfage[col]\n",
    "        thistotal=yvals.sum()\n",
    "        totalx=\"{:,}\".format(thistotal)\n",
    "        ctotal=totalx.rjust(16,\".\")\n",
    "        \n",
    "        lgtitl=col.replace(\"range\",\"age\").title()\n",
    "        xlabsforbar.append(lgtitl)\n",
    "\n",
    "        lgtitle=lgtitl.ljust(16,\".\")+ctotal\n",
    "        if xn==2: lgtitle=lgtitle+\"\\n\"\n",
    "        if xn < 3: \n",
    "            ls=\"dashed\" \n",
    "            dfage[col].plot(x=xvals,ax=ax1, label=lgtitle,linestyle=ls)\n",
    "            sextotal=sextotal+thistotal\n",
    "        else: \n",
    "            if xn < 8:\n",
    "                ls=\"solid\"\n",
    "                ax1.plot(xvals, yvals, label=lgtitle,linestyle=ls)\n",
    "                agetotal=agetotal+thistotal\n",
    "            else:\n",
    "                ls=\"dashdot\"  #\"dotted\"\n",
    "                ax1.plot(xvals, yvals, label=lgtitle,linestyle=ls)\n",
    "                agetotal=agetotal+thistotal\n",
    "        xn=xn+1\n",
    "    \n",
    "    cyrs=syr+\"-\"+eyr\n",
    "    sexgt=(\"Grand Total By Sex: \"+\"{:,}\".format(sextotal))\n",
    "    agegt=(\"Grand Total By Age: \"+\"{:,}\".format(agetotal))\n",
    "    lghdg=\"\\nNumbers shown represents totals for:\\n\\n> \"+offtype.title()+\"\\n> for years: \" \\\n",
    "          +cyrs+\"\\n\\n\"+sexgt+\"\\n\"+agegt+\"\\n\\n\"\n",
    "    ax1.legend(loc='upper center', bbox_to_anchor=(lgx, lgy),ncol=1, fancybox=True, shadow=True, title=lghdg)\n",
    "    \n",
    "    ax1.get_yaxis().set_major_formatter(plt.FuncFormatter(lambda x, loc: \"{:,}\".format(int(x))))\n",
    "    ax1.get_xaxis().set_major_formatter(plt.FuncFormatter(lambda x, loc: \"{:.0f}\".format(int(x))))\n",
    "    ax1.grid(linestyle=':', linewidth='0.25', color='black')\n",
    "    \n",
    "    barwidth=0.4\n",
    "    agegrp=list(dfage.sum(axis=0))\n",
    "    xsexbar=xlabsforbar[:3]\n",
    "    ysexbar=agegrp[:3]\n",
    "    xagebar=xlabsforbar[3:]\n",
    "    yagebar=agegrp[3:]\n",
    "    \n",
    "    ax2.bar(xagebar,yagebar, color=\"green\", width=barwidth)\n",
    "    ax2.set_xticklabels(xagebar, rotation=25, ha=\"right\")\n",
    "    ax2.yaxis.set_major_formatter(matplotlib.ticker.StrMethodFormatter('{x:,.0f}'))\n",
    "    ax2.grid(linestyle=':', linewidth='0.25', color='red')\n",
    "    ax2.set_title(\"FBI Cases (\"+syr+\" - \"+eyr+\") By Age for: \"+offtype.title())\n",
    "    ax2.set_ylabel(\"# of Cases\", fontsize=12)\n",
    "      \n",
    "    ax3.bar(xsexbar,ysexbar, color=\"red\", width=barwidth)\n",
    "    ax3.set_xticklabels(xsexbar, rotation=0)\n",
    "    ax3.yaxis.set_major_formatter(matplotlib.ticker.StrMethodFormatter('{x:,.0f}'))\n",
    "    ax3.grid(linestyle=':', linewidth='0.25', color='green')\n",
    "    title3=\"(\"+syr+\" - \"+eyr+\") By Sex for: \"+offtype.title()\n",
    "    if len(title3)<=50:\n",
    "        fsize=12\n",
    "    else:\n",
    "        if len(title3) < 60:\n",
    "            fsize=10\n",
    "        else:\n",
    "            fsize=8\n",
    "    ax3.set_title(\"(\"+syr+\"-\"+eyr+\") By Sex for: \"+offtype.title(), fontsize=fsize, fontname=\"Century\", \n",
    "                                                fontweight=20, style=\"normal\")\n",
    "    ax3.tick_params(axis ='y', rotation =45) \n",
    "\n",
    "    plt.savefig('FBI_Data_for_Select_Yrs_between_1991-2017_'+offtype+'.png', bbox_inches='tight')\n",
    "    plt.show()\n",
    "    \n",
    "    "
   ]
  },
  {
   "cell_type": "code",
   "execution_count": 11,
   "metadata": {},
   "outputs": [],
   "source": [
    "def pre_plotit(offtype, start_year, end_year):\n",
    "    if offtype==quitcontrol:\n",
    "        print(\"\\n\\n\\n All Done & Quitting .............. \\n\\n Good Bye! \\n\\n\")\n",
    "    else:\n",
    "        plotit(offtype, start_year, end_year)\n"
   ]
  },
  {
   "cell_type": "code",
   "execution_count": 12,
   "metadata": {
    "scrolled": true,
    "slideshow": {
     "slide_type": "slide"
    }
   },
   "outputs": [
    {
     "data": {
      "application/vnd.jupyter.widget-view+json": {
       "model_id": "0b33dd36ea86459caa23cf080ed5b65e",
       "version_major": 2,
       "version_minor": 0
      },
      "text/plain": [
       "interactive(children=(Dropdown(description='Offense:', index=65, options=('QUIT---All Done', 'aggravated-assau…"
      ]
     },
     "metadata": {},
     "output_type": "display_data"
    }
   ],
   "source": [
    "interactive(pre_plotit, offtype=offtype, start_year=start_year, end_year=end_year)"
   ]
  }
 ],
 "metadata": {
  "celltoolbar": "Slideshow",
  "kernelspec": {
   "display_name": "Python 3",
   "language": "python",
   "name": "python3"
  },
  "language_info": {
   "codemirror_mode": {
    "name": "ipython",
    "version": 3
   },
   "file_extension": ".py",
   "mimetype": "text/x-python",
   "name": "python",
   "nbconvert_exporter": "python",
   "pygments_lexer": "ipython3",
   "version": "3.7.3"
  }
 },
 "nbformat": 4,
 "nbformat_minor": 2
}
