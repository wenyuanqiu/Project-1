{
 "cells": [
  {
   "cell_type": "code",
   "execution_count": 1,
   "metadata": {},
   "outputs": [],
   "source": [
    "# Part 1 of Project 01 to be discussed with group members on 09/07/2019\n",
    "# Un-Pickling the file prepared by Wen: fbi_offenders_by_age.pkl at:\n",
    "#C:\\___Rice\\_Project_01\\from_Wen_via_Rep\\Project-1-master\\data\\cleandata\\fbi_offenders_by_age.pkl"
   ]
  },
  {
   "cell_type": "code",
   "execution_count": 2,
   "metadata": {},
   "outputs": [],
   "source": [
    "import pandas as pd\n",
    "import numpy as np\n",
    "import string as str\n",
    "import re\n",
    "\n",
    "import matplotlib.pyplot as plt\n",
    "import seaborn as sns\n",
    "from ipywidgets import widgets, interactive"
   ]
  },
  {
   "cell_type": "code",
   "execution_count": 3,
   "metadata": {},
   "outputs": [],
   "source": [
    "pickle_file = r'data\\cleandata\\fbi_offenders_by_age.pkl'"
   ]
  },
  {
   "cell_type": "code",
   "execution_count": 4,
   "metadata": {},
   "outputs": [],
   "source": [
    "offenders_by_age = pd.read_pickle(pickle_file)"
   ]
  },
  {
   "cell_type": "code",
   "execution_count": 5,
   "metadata": {},
   "outputs": [],
   "source": [
    "offenders_by_age.to_csv(\"offenders_by_age.csv\")"
   ]
  },
  {
   "cell_type": "code",
   "execution_count": 6,
   "metadata": {},
   "outputs": [],
   "source": [
    "offense_types=list(offenders_by_age[\"offense_type_list\"].unique())"
   ]
  },
  {
   "cell_type": "code",
   "execution_count": 7,
   "metadata": {},
   "outputs": [],
   "source": [
    "quitcontrol=\"QUIT---All Done\"\n",
    "offtype = widgets.Dropdown(\n",
    "    options=[quitcontrol]+offense_types+[quitcontrol],\n",
    "    value='all-offenses',\n",
    "    description='Offense:',\n",
    ")"
   ]
  },
  {
   "cell_type": "code",
   "execution_count": 8,
   "metadata": {
    "scrolled": false
   },
   "outputs": [],
   "source": [
    "def plotit(offtype):\n",
    "    df=offenders_by_age[offenders_by_age[\"offense_type_list\"]==offtype].copy()\n",
    "    df.to_csv(\"offenders_by_age_\"+offtype+\".CSV\")\n",
    "    dfgrpbytype=df.groupby('data_year').sum()\n",
    "    dfbytype=dfgrpbytype.copy()\n",
    "    xvals=list(dfbytype.index)\n",
    "\n",
    "    fig1, ax1 = plt.subplots(figsize=(10,6))\n",
    "\n",
    "    plt.xlim((1990, 2018))\n",
    "    plt.xlabel(\"Years\")\n",
    "    plt.ylabel(\"# of Cases\")\n",
    "    plt.title(\"FBI Cases (1991 - 2017) for: \"+offtype.title())\n",
    "    plt.grid(b=True, which='major', color='#666666', linestyle=':')\n",
    "\n",
    "    xn=0\n",
    "    for col in dfbytype.columns: \n",
    "        yvals=dfbytype[col]\n",
    "        ax1.plot(xvals, yvals, label=col.replace(\"range\",\"age\").title())\n",
    "\n",
    "    plt.legend(loc='upper center', bbox_to_anchor=(1.1, .7),ncol=1, fancybox=True, shadow=True)\n",
    "    plt.savefig(\"FBI_Data_By_Age_1991-2017_\"+offtype+\".PNG\")\n",
    "    plt.show()"
   ]
  },
  {
   "cell_type": "code",
   "execution_count": 9,
   "metadata": {},
   "outputs": [],
   "source": [
    "def pre_plotit(offtype):\n",
    "    if offtype==quitcontrol:\n",
    "        print(\"\\n\\n\\n All Done & Quitting .............. \\n\\n Good Bye! \\n\\n\")\n",
    "    else:\n",
    "        plotit(offtype)\n"
   ]
  },
  {
   "cell_type": "code",
   "execution_count": 10,
   "metadata": {},
   "outputs": [
    {
     "data": {
      "application/vnd.jupyter.widget-view+json": {
       "model_id": "f5a6fe105eed43569f2bb9f615beb119",
       "version_major": 2,
       "version_minor": 0
      },
      "text/plain": [
       "interactive(children=(Dropdown(description='Offense:', index=64, options=('QUIT---All Done', 'aggravated-assau…"
      ]
     },
     "metadata": {},
     "output_type": "display_data"
    }
   ],
   "source": [
    "interactive(pre_plotit, offtype=offtype)"
   ]
  }
 ],
 "metadata": {
  "kernelspec": {
   "display_name": "Python 3",
   "language": "python",
   "name": "python3"
  },
  "language_info": {
   "codemirror_mode": {
    "name": "ipython",
    "version": 3
   },
   "file_extension": ".py",
   "mimetype": "text/x-python",
   "name": "python",
   "nbconvert_exporter": "python",
   "pygments_lexer": "ipython3",
   "version": "3.7.3"
  }
 },
 "nbformat": 4,
 "nbformat_minor": 2
}
