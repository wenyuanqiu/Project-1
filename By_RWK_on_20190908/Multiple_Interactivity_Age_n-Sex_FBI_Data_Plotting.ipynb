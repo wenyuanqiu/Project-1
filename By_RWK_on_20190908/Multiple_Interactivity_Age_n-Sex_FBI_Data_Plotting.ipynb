{
 "cells": [
  {
   "cell_type": "code",
   "execution_count": 49,
   "metadata": {},
   "outputs": [],
   "source": [
    "# Working with the Full Data (sex & Age) via Excel & Pickle files\n",
    "#For this work, starting from A_Wip_D\n",
    "# Finalized on 09/08/2019 @ 9:10 PM"
   ]
  },
  {
   "cell_type": "code",
   "execution_count": 50,
   "metadata": {},
   "outputs": [],
   "source": [
    "import pandas as pd\n",
    "import numpy as np\n",
    "import string as str\n",
    "import re\n",
    "\n",
    "import matplotlib.pyplot as plt\n",
    "import seaborn as sns\n",
    "from ipywidgets import widgets, interactive, Layout"
   ]
  },
  {
   "cell_type": "code",
   "execution_count": 51,
   "metadata": {},
   "outputs": [],
   "source": [
    "pickle_file = 'Full_Data.pkl'"
   ]
  },
  {
   "cell_type": "code",
   "execution_count": 52,
   "metadata": {
    "scrolled": true
   },
   "outputs": [],
   "source": [
    "Full_Data_df = pd.read_pickle(pickle_file)\n",
    "Full_Data_df.rename(columns={'Unknown': 'Unknown_Sex'}, inplace=True)"
   ]
  },
  {
   "cell_type": "code",
   "execution_count": 53,
   "metadata": {
    "scrolled": true
   },
   "outputs": [],
   "source": [
    "cols = list(Full_Data_df.columns.values)"
   ]
  },
  {
   "cell_type": "code",
   "execution_count": 54,
   "metadata": {},
   "outputs": [
    {
     "name": "stdout",
     "output_type": "stream",
     "text": [
      "3 4\n"
     ]
    }
   ],
   "source": [
    "#Swap two columnss Offense and Unknown_Sex\n",
    "hdg1=\"Offense\"\n",
    "hdg2=\"Unknown_Sex\"\n",
    "indx1=cols.index(hdg1)\n",
    "indx2=cols.index(hdg2)\n",
    "print(indx1, indx2)\n",
    "cols[indx1]=hdg2\n",
    "cols[indx2]=hdg1"
   ]
  },
  {
   "cell_type": "code",
   "execution_count": 55,
   "metadata": {},
   "outputs": [],
   "source": [
    "Full_Data_df=Full_Data_df.reindex(columns=cols)"
   ]
  },
  {
   "cell_type": "code",
   "execution_count": 56,
   "metadata": {},
   "outputs": [],
   "source": [
    "offense_types=list(Full_Data_df[\"Offense\"].unique())"
   ]
  },
  {
   "cell_type": "code",
   "execution_count": 57,
   "metadata": {},
   "outputs": [],
   "source": [
    "min_year=1991\n",
    "max_year=2017\n",
    "quitcontrol=\"QUIT---All Done\"\n",
    "offtype = widgets.Dropdown(\n",
    "    options=[quitcontrol]+offense_types+[quitcontrol],\n",
    "    value='all-offenses',\n",
    "    description='Offense:',\n",
    ")\n",
    "\n",
    "start_year = widgets.BoundedFloatText(\n",
    "    value=min_year,                        \n",
    "    min=min_year,                          \n",
    "    max=max_year-1,                          \n",
    "    step=1,\n",
    "    description='Start Year:',\n",
    "    disabled=False,\n",
    "    color='black'\n",
    ")\n",
    "end_year = widgets.BoundedFloatText(\n",
    "    value=max_year,                        \n",
    "    min=min_year+1,                          \n",
    "    max=max_year,                          \n",
    "    step=1,\n",
    "    description='End Year:',\n",
    "    disabled=False,\n",
    "    color='black'\n",
    ")"
   ]
  },
  {
   "cell_type": "code",
   "execution_count": 58,
   "metadata": {},
   "outputs": [],
   "source": [
    "def plotit(offtype, start_year, end_year):\n",
    "    df=Full_Data_df[Full_Data_df[\"Offense\"]==offtype].copy()\n",
    "    \n",
    "    if end_year <= start_year:\n",
    "        if start_year < max_year: \n",
    "            end_year=start_year+1\n",
    "        else:\n",
    "            start_year=end_year-1\n",
    "        \n",
    "    df=df[df[\"Year\"]>=start_year]\n",
    "    df=df[df[\"Year\"]<=end_year]     \n",
    "    df.to_csv(\"offenders_by_age_\"+offtype+\".CSV\")\n",
    "    \n",
    "    dfgrpbytype=df.groupby('Year').sum()\n",
    "    dfbytype=dfgrpbytype.copy()\n",
    "   \n",
    "    indx=cols.index(\"Offense\")\n",
    "    dfsex=dfbytype.iloc[:,:indx]\n",
    "    dfage=dfbytype.iloc[:,indx:]\n",
    "   \n",
    "    xvals=list(dfage.index)\n",
    "    \n",
    "    syr=\"{:.0f}\".format(start_year)\n",
    "    eyr=\"{:.0f}\".format(end_year)\n",
    "\n",
    "    fig1, ax1 = plt.subplots(figsize=(10,5.8))\n",
    "    \n",
    "    plt.xlim((1990, 2018))\n",
    "    plt.xlabel(\"Years\")\n",
    "    plt.ylabel(\"# of Cases\")\n",
    "    plt.title(\"FBI Cases (\"+syr+\" - \"+eyr+\") for: \"+offtype.title())\n",
    "    plt.grid(b=True, which='major', color='#666666', linestyle=':')\n",
    "    \n",
    "    lgx=1.2\n",
    "    lgy=1.02\n",
    "    \n",
    "    dfage=dfbytype.copy()\n",
    "    xn=0\n",
    "    sextotal=0\n",
    "    agetotal=0\n",
    "    for col in dfage.columns: \n",
    "        yvals=dfage[col]\n",
    "        thistotal=yvals.sum()\n",
    "        totalx=\"{:,}\".format(thistotal)\n",
    "        ctotal=totalx.rjust(16,\".\")\n",
    "        \n",
    "        lgtitl=col.replace(\"range\",\"age\").title()\n",
    "        lgtitle=lgtitl.ljust(16,\".\")+ctotal\n",
    "        if xn==2: lgtitle=lgtitle+\"\\n\"\n",
    "        if xn < 3: \n",
    "            ls=\"dashed\" \n",
    "            dfage[col].plot(x=xvals,ax=ax1, label=lgtitle,linestyle=ls)\n",
    "            sextotal=sextotal+thistotal\n",
    "        else: \n",
    "            if xn < 8:\n",
    "                ls=\"solid\"\n",
    "                ax1.plot(xvals, yvals, label=lgtitle,linestyle=ls)\n",
    "                agetotal=agetotal+thistotal\n",
    "            else:\n",
    "                ls=\"dashdot\"  #\"dotted\"\n",
    "                ax1.plot(xvals, yvals, label=lgtitle,linestyle=ls)\n",
    "                agetotal=agetotal+thistotal\n",
    "        xn=xn+1\n",
    "    \n",
    "    sexgt=(\"By Sex Grand Total: \"+\"{:,}\".format(sextotal))\n",
    "    agegt=(\"By Age Grand Total: \"+\"{:,}\".format(agetotal))\n",
    "    lghdg=\"Numbers shown represents totals for\\neach category summed over all years\\n\\n\"+sexgt+\"\\n\"+agegt+\"\\n\\n\"\n",
    "    plt.legend(loc='upper center', bbox_to_anchor=(lgx, lgy),ncol=1, fancybox=True, shadow=True, title=lghdg)\n",
    "    ax1.get_yaxis().set_major_formatter(plt.FuncFormatter(lambda x, loc: \"{:,}\".format(int(x))))\n",
    "    ax1.get_xaxis().set_major_formatter(plt.FuncFormatter(lambda x, loc: \"{:.0f}\".format(int(x))))\n",
    "    plt.savefig('FBI_Data_1991-2017_'+offtype+'.png', bbox_inches='tight')\n",
    "    plt.show()\n",
    "    \n",
    "#     controls = HBox(widget.children[:-1], layout = Layout(flex_flow='row wrap'))\n",
    "#     output = widget.children[-1]\n",
    "#     display(VBox([controls, output]))"
   ]
  },
  {
   "cell_type": "code",
   "execution_count": 59,
   "metadata": {},
   "outputs": [],
   "source": [
    "def pre_plotit(offtype, start_year, end_year):\n",
    "    if offtype==quitcontrol:\n",
    "        print(\"\\n\\n\\n All Done & Quitting .............. \\n\\n Good Bye! \\n\\n\")\n",
    "    else:\n",
    "        plotit(offtype, start_year, end_year)\n"
   ]
  },
  {
   "cell_type": "code",
   "execution_count": 60,
   "metadata": {},
   "outputs": [
    {
     "data": {
      "application/vnd.jupyter.widget-view+json": {
       "model_id": "ff4dcce3a8fb4c6cba67757ef00d4e04",
       "version_major": 2,
       "version_minor": 0
      },
      "text/plain": [
       "interactive(children=(Dropdown(description='Offense:', index=64, options=('QUIT---All Done', 'aggravated-assau…"
      ]
     },
     "metadata": {},
     "output_type": "display_data"
    }
   ],
   "source": [
    "interactive(pre_plotit, offtype=offtype, start_year=start_year, end_year=end_year)"
   ]
  }
 ],
 "metadata": {
  "kernelspec": {
   "display_name": "Python 3",
   "language": "python",
   "name": "python3"
  },
  "language_info": {
   "codemirror_mode": {
    "name": "ipython",
    "version": 3
   },
   "file_extension": ".py",
   "mimetype": "text/x-python",
   "name": "python",
   "nbconvert_exporter": "python",
   "pygments_lexer": "ipython3",
   "version": "3.7.3"
  }
 },
 "nbformat": 4,
 "nbformat_minor": 2
}
